{
 "cells": [
  {
   "cell_type": "markdown",
   "metadata": {},
   "source": [
    "## Preprocessing files\n",
    "\n",
    "+ **This notebook aims to preprocess the source files taken from the camera. Specifically:**\n",
    "    + Renaming all the files setting each name as a CLASS(OK/NOK)-COUNTER.png for each reference\n",
    "    + Converting the files from original .tiff to .jpg\n",
    "    + Removing the background to make it easier for the model to distinguish the defects (This step was made with other software so it is not containing in this notebook)\n",
    "    + Resizing the files to (990,990) to reduce the dimensions\n",
    "    + Splitting the data into TRAIN, VAL and TEST and coping them into each folder set"
   ]
  },
  {
   "cell_type": "code",
   "execution_count": null,
   "metadata": {},
   "outputs": [],
   "source": [
    "# importing libraries\n",
    "import glob\n",
    "from shutil import copyfile\n",
    "from PIL import Image\n",
    "import os\n",
    "import random"
   ]
  },
  {
   "cell_type": "markdown",
   "metadata": {},
   "source": [
    "### Renaming files"
   ]
  },
  {
   "cell_type": "code",
   "execution_count": 34,
   "metadata": {},
   "outputs": [],
   "source": [
    "# to choose which files we want to rename we must change CLASS (OK/NOK) and REF(1/2/3/4/5)\n",
    "CLASS=\"OK\"\n",
    "REF=\"1\"\n",
    "\n",
    "# you should change these directories to yours\n",
    "source_list=\"E:\\EJEMPLOS\\FINALES\\REF\"+REF+\"\\\\\"+CLASS+\"\\\\*\"\n",
    "target_list=\"E:\\EJEMPLOS\\FINALES_RENAMED\\REF\"+REF+\"\\\\\"+CLASS+\"\\\\\"\n",
    "\n",
    "source_list_complete=glob.glob(source_list)\n",
    "counter=0\n",
    "for i in range(len(source_list_complete)):\n",
    "        copyfile(source_list_complete[i], target_list+CLASS+\"-\"+str(counter)+\".png\")\n",
    "        counter=counter+1"
   ]
  },
  {
   "cell_type": "markdown",
   "metadata": {},
   "source": [
    "### Converting files"
   ]
  },
  {
   "cell_type": "code",
   "execution_count": null,
   "metadata": {},
   "outputs": [],
   "source": [
    "# to choose which files we want to convert we must change CLASS (OK/NOK) and REF (1/2/3/4/5)\n",
    "\n",
    "CLASS=\"NOK\"\n",
    "REF=\"5\"\n",
    "SET=\"TRAIN\"\n",
    "\n",
    "# you should change these directories to yours\n",
    "source_list=\"E:\\EJEMPLOS\\FINALES_RENAMED\\REF\"+REF+\"\\\\\"+CLASS+\"\\\\*\"\n",
    "target_list=\"C:\\\\Users\\\\adria\\\\Desktop\\\\IMAGENES_TFM\\\\REF\"+REF+\"\\\\\"+CLASS+\"\\\\\"\n",
    "source_list_complete=glob.glob(source_list)\n",
    "pct_train=0.7\n",
    "for i in range(round(len(source_list_complete)*pct_train)):\n",
    "    im = Image.open(source_list_complete[i])\n",
    "    name=source_list_complete[i].split(\"\\\\\")[5].split(\".\")[0]\n",
    "    im.convert('RGB').save(target_list+name+\".jpg\",\"JPEG\") #this converts png image as jpeg"
   ]
  },
  {
   "cell_type": "code",
   "execution_count": null,
   "metadata": {},
   "outputs": [],
   "source": [
    "# to choose which files we want to convert we must change CLASS (OK/NOK) and REF (1/2/3/4/5)\n",
    "\n",
    "CLASS=\"NOK\"\n",
    "REF=\"5\"\n",
    "SET=\"TEST\"\n",
    "\n",
    "# you should change these directories to yours\n",
    "source_list=\"E:\\EJEMPLOS\\FINALES_RENAMED\\REF\"+REF+\"\\\\\"+CLASS+\"\\\\*\"\n",
    "target_list=\"C:\\\\Users\\\\adria\\\\Desktop\\\\IMAGENES_TFM\\\\REF\"+REF+\"\\\\\"+CLASS+\"\\\\\"\n",
    "source_list_complete=glob.glob(source_list)\n",
    "pct_train=0.7\n",
    "for i in range(round(len(source_list_complete)*pct_train),len(source_list_complete)):\n",
    "    im = Image.open(source_list_complete[i])\n",
    "    name=source_list_complete[i].split(\"\\\\\")[5].split(\".\")[0]\n",
    "    im.convert('RGB').save(target_list+name+\".jpg\",\"JPEG\") #this converts png image as jpeg"
   ]
  },
  {
   "cell_type": "markdown",
   "metadata": {},
   "source": [
    "### Resizing files"
   ]
  },
  {
   "cell_type": "code",
   "execution_count": null,
   "metadata": {},
   "outputs": [],
   "source": [
    "# we convert the original image size to (990,990) because that's the minimum dimensions we believe the defects are visible\n",
    "# you should change these directories to yours\n",
    "\n",
    "source_list=\"C:\\\\Users\\\\adria\\\\Desktop\\\\IMAGENES_TFM(2448x2048)\\\\REF6_SINFONDO\\\\NOK\\\\*\"\n",
    "target_list=\"C:\\\\Users\\\\adria\\\\Desktop\\\\IMAGENES_TFM(2448x2048)\\\\REF6_SINFONDO_990x990\\\\NOK\\\\\"\n",
    "source_list_complete=glob.glob(source_list)\n",
    "for i in range(len(source_list_complete)):\n",
    "    im = Image.open(source_list_complete[i])\n",
    "    name=source_list_complete[i].split(\"\\\\\")[7].split(\".\")[0]\n",
    "    im_resize=im.resize((990,990))\n",
    "    im_resize.convert('RGB').save(target_list+name+\".jpg\",\"JPEG\") #this converts png image as jpeg"
   ]
  },
  {
   "cell_type": "markdown",
   "metadata": {},
   "source": [
    "### Splitting the files"
   ]
  },
  {
   "cell_type": "code",
   "execution_count": null,
   "metadata": {},
   "outputs": [],
   "source": [
    "# we split the data into TRAIN, VAL AND TEST \n",
    "# you should change these directories to yours\n",
    "\n",
    "source_list=\"C:\\\\Users\\\\adria\\\\Desktop\\\\IMAGENES_TFM_990x990\\\\OK\\\\*\"\n",
    "\n",
    "train_list=\"C:\\\\Users\\\\adria\\\\Desktop\\\\IMAGENES_TFM_990x990\\\\TRAIN\\\\OK\\\\\"\n",
    "val_list=\"C:\\\\Users\\\\adria\\\\Desktop\\\\IMAGENES_TFM_990x990\\\\VAL\\\\OK\\\\\"\n",
    "test_list=\"C:\\\\Users\\\\adria\\\\Desktop\\\\IMAGENES_TFM_990x990\\\\TEST\\\\OK\\\\\"\n",
    "\n",
    "source_list_complete=glob.glob(source_list)\n",
    "source_list_complete.sort()\n",
    "random.seed(200)\n",
    "random.shuffle(source_list_complete)\n",
    "\n",
    "pct_train=0.75\n",
    "pct_val=0.10\n",
    "split_1 = int(pct_train * len(source_list_complete))\n",
    "split_2 = int((pct_train+pct_val)* len(source_list_complete))\n",
    "\n",
    "train_filenames = source_list_complete[:split_1]\n",
    "val_filenames = source_list_complete[split_1:split_2]\n",
    "test_filenames = source_list_complete[split_2:]\n",
    "\n",
    "for i in range(round(len(train_filenames))):\n",
    "    im = Image.open(train_filenames[i])\n",
    "    name=train_filenames[i].split(\"\\\\\")[6].split(\".\")[0]\n",
    "    copyfile(train_filenames[i], train_list+name+'.jpg')\n",
    "    \n",
    "for i in range(round(len(val_filenames))):\n",
    "    im = Image.open(val_filenames[i])\n",
    "    name=val_filenames[i].split(\"\\\\\")[6].split(\".\")[0]\n",
    "    copyfile(val_filenames[i], val_list+name+'.jpg')\n",
    "    \n",
    "for i in range(round(len(test_filenames))):\n",
    "    im = Image.open(test_filenames[i])\n",
    "    name=test_filenames[i].split(\"\\\\\")[6].split(\".\")[0]\n",
    "    copyfile(test_filenames[i], test_list+name+'.jpg')"
   ]
  }
 ],
 "metadata": {
  "kernelspec": {
   "display_name": "Python 3",
   "language": "python",
   "name": "python3"
  },
  "language_info": {
   "codemirror_mode": {
    "name": "ipython",
    "version": 3
   },
   "file_extension": ".py",
   "mimetype": "text/x-python",
   "name": "python",
   "nbconvert_exporter": "python",
   "pygments_lexer": "ipython3",
   "version": "3.8.5"
  }
 },
 "nbformat": 4,
 "nbformat_minor": 2
}
